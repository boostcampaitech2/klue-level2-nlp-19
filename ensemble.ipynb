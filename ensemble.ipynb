{
 "cells": [
  {
   "cell_type": "code",
   "execution_count": null,
   "metadata": {},
   "outputs": [],
   "source": [
    "import pickle as pickle\n",
    "\n",
    "df1 = pd.read_csv('./prediction/73.526.csv')\n",
    "df2 = pd.read_csv('./prediction/73.108.csv')\n",
    "df3 = pd.read_csv('./prediction/73.026.csv')\n",
    "df4 = pd.read_csv('./prediction/72.456.csv')\n",
    "df5 = pd.read_csv('./prediction/72.710.csv')\n",
    "\n",
    "def num_to_label(label):\n",
    "  \"\"\"\n",
    "    숫자로 되어 있던 class를 원본 문자열 라벨로 변환 합니다.\n",
    "  \"\"\"\n",
    "  origin_label = []\n",
    "  with open('dict_num_to_label.pkl', 'rb') as f:\n",
    "    dict_num_to_label = pickle.load(f)\n",
    "  for v in label:\n",
    "    origin_label.append(dict_num_to_label[v])\n",
    "  \n",
    "  return origin_label\n",
    "\n",
    "result = []\n",
    "for a,b,c,d,e in zip(df1.probs,df2.probs,df3.probs,df4.probs, df5.probs):\n",
    "    result2 = []\n",
    "    for a1,b1,c1,d1,e1 in zip(eval(a),eval(b),eval(c),eval(d),eval(e)):\n",
    "        result2.append((a1+b1+c1+d1+e1)/5)\n",
    "    result.append(result2)"
   ]
  },
  {
   "cell_type": "code",
   "execution_count": null,
   "metadata": {},
   "outputs": [],
   "source": [
    "result3 = dict()\n",
    "result3['pred_label'] = np.argmax(result,axis=1)\n",
    "result3['pred_label'] = num_to_label(result3['pred_label'])\n",
    "result3['probs'] = result\n",
    "\n",
    "final = pd.DataFrame({'id':np.arange(7765),'pred_label':result3['pred_label'],'probs':result3['probs']})\n",
    "final.to_csv('test6.csv', index=False)"
   ]
  }
 ],
 "metadata": {
  "kernelspec": {
   "display_name": "Python 3.8.5 64-bit ('base': conda)",
   "metadata": {
    "interpreter": {
     "hash": "98b0a9b7b4eaaa670588a142fd0a9b87eaafe866f1db4228be72b4211d12040f"
    }
   },
   "name": "python3"
  },
  "language_info": {
   "name": "python",
   "nbconvert_exporter": "python",
   "version": "3.8.5"
  },
  "orig_nbformat": 2
 },
 "nbformat": 4,
 "nbformat_minor": 2
}