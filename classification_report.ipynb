{
 "cells": [
  {
   "cell_type": "code",
   "execution_count": 2,
   "id": "cff6e977",
   "metadata": {},
   "outputs": [],
   "source": [
    "from metric import ConfusionMatrix, Classification_report"
   ]
  },
  {
   "cell_type": "code",
   "execution_count": 3,
   "id": "9cc2f3e0",
   "metadata": {},
   "outputs": [],
   "source": [
    "import torch"
   ]
  },
  {
   "cell_type": "code",
   "execution_count": 17,
   "id": "b14749c4",
   "metadata": {},
   "outputs": [
    {
     "data": {
      "text/plain": [
       "tensor([[ 0.0572, -0.2431, -0.8920, -0.8272,  0.8638,  1.1155,  0.0392, -0.4967,\n",
       "          0.1284,  0.7785, -0.9476,  0.2371,  0.1943,  0.4320, -0.7590,  0.3054,\n",
       "          0.5740,  0.9450,  0.7417,  1.3863, -1.0016, -1.1097,  1.8747,  0.8750,\n",
       "         -0.0865,  1.1798,  0.8766,  0.7564, -2.7366,  0.4447,  0.6127, -1.3814,\n",
       "          0.0868,  0.5311,  1.7756,  0.0548,  0.1406, -0.9151,  1.1931, -0.7823,\n",
       "          0.5021, -0.4774, -0.6074, -1.5083,  1.1093, -0.8801,  0.2433,  0.0724,\n",
       "          1.1175,  0.7249,  1.3848, -0.0630, -1.7341,  0.2833, -1.2288,  1.1466,\n",
       "         -1.2542,  0.1496,  0.4836, -1.6430,  0.9462,  3.0024, -1.3106,  1.3999]],\n",
       "       device='cuda:0')"
      ]
     },
     "execution_count": 17,
     "metadata": {},
     "output_type": "execute_result"
    }
   ],
   "source": [
    "outputs = torch.randn(1,64, device=torch.device('cuda:0'))\n",
    "outputs"
   ]
  },
  {
   "cell_type": "code",
   "execution_count": 18,
   "id": "452b46db",
   "metadata": {},
   "outputs": [],
   "source": [
    "outputs1 = torch.randn(1,64, device=torch.device('cuda:0'))\n",
    "outputs2 = torch.cat([outputs, outputs1], dim=1)"
   ]
  },
  {
   "cell_type": "code",
   "execution_count": 19,
   "id": "d0244c8e",
   "metadata": {},
   "outputs": [
    {
     "data": {
      "text/plain": [
       "tensor([[ 5.7221e-02, -2.4306e-01, -8.9203e-01, -8.2719e-01,  8.6376e-01,\n",
       "          1.1155e+00,  3.9215e-02, -4.9666e-01,  1.2844e-01,  7.7854e-01,\n",
       "         -9.4759e-01,  2.3715e-01,  1.9429e-01,  4.3205e-01, -7.5901e-01,\n",
       "          3.0543e-01,  5.7399e-01,  9.4501e-01,  7.4169e-01,  1.3863e+00,\n",
       "         -1.0016e+00, -1.1097e+00,  1.8747e+00,  8.7505e-01, -8.6521e-02,\n",
       "          1.1798e+00,  8.7663e-01,  7.5637e-01, -2.7366e+00,  4.4466e-01,\n",
       "          6.1270e-01, -1.3814e+00,  8.6757e-02,  5.3115e-01,  1.7756e+00,\n",
       "          5.4765e-02,  1.4058e-01, -9.1508e-01,  1.1931e+00, -7.8226e-01,\n",
       "          5.0210e-01, -4.7745e-01, -6.0741e-01, -1.5083e+00,  1.1093e+00,\n",
       "         -8.8009e-01,  2.4334e-01,  7.2373e-02,  1.1175e+00,  7.2491e-01,\n",
       "          1.3848e+00, -6.2988e-02, -1.7341e+00,  2.8326e-01, -1.2288e+00,\n",
       "          1.1466e+00, -1.2542e+00,  1.4961e-01,  4.8356e-01, -1.6430e+00,\n",
       "          9.4617e-01,  3.0024e+00, -1.3106e+00,  1.3999e+00,  2.0522e-01,\n",
       "          1.3063e+00, -8.3263e-01,  1.7256e-01, -7.3574e-02, -3.0965e-01,\n",
       "         -3.7515e-01, -6.3788e-01,  8.3173e-01,  1.0284e+00, -1.4015e+00,\n",
       "         -1.8509e+00,  7.9331e-01,  2.0661e+00, -2.0617e-03,  4.9415e-01,\n",
       "          1.5946e+00,  1.3627e+00,  2.3646e-01,  1.1246e-01, -7.1819e-01,\n",
       "         -7.7054e-01,  1.1036e+00,  1.2283e-01, -8.7610e-01,  6.0837e-01,\n",
       "         -1.8385e-01,  3.2610e-01, -3.7304e-01, -2.3459e-01,  3.3212e-01,\n",
       "         -8.3896e-01,  1.7551e+00, -1.2623e+00,  5.6466e-02, -3.5136e-01,\n",
       "          3.3565e-02, -1.6801e+00, -2.4847e-02, -2.6884e-01,  2.5121e-01,\n",
       "          1.3614e+00,  3.6978e-01,  5.4292e-01,  1.1715e+00,  8.4772e-01,\n",
       "         -2.3487e+00,  5.9138e-01, -2.1702e-01, -1.0696e+00,  1.7049e+00,\n",
       "          4.7741e-01, -1.1318e-01, -3.4957e-01,  1.8797e+00,  1.0607e+00,\n",
       "          8.2416e-02, -7.0993e-01, -1.2508e+00,  8.5874e-01, -2.5330e+00,\n",
       "          1.0170e-01,  1.4857e+00, -9.8338e-01]], device='cuda:0')"
      ]
     },
     "execution_count": 19,
     "metadata": {},
     "output_type": "execute_result"
    }
   ],
   "source": [
    "outputs2"
   ]
  },
  {
   "cell_type": "code",
   "execution_count": 20,
   "id": "877012fe",
   "metadata": {},
   "outputs": [
    {
     "data": {
      "text/plain": [
       "torch.Size([1, 128])"
      ]
     },
     "execution_count": 20,
     "metadata": {},
     "output_type": "execute_result"
    }
   ],
   "source": [
    "outputs2.shape"
   ]
  },
  {
   "cell_type": "code",
   "execution_count": 21,
   "id": "771e2568",
   "metadata": {},
   "outputs": [
    {
     "data": {
      "text/plain": [
       "tensor([], device='cuda:0', size=(1, 0))"
      ]
     },
     "execution_count": 21,
     "metadata": {},
     "output_type": "execute_result"
    }
   ],
   "source": [
    "outputs3 = torch.randn(1,0, device=torch.device('cuda:0'))\n",
    "outputs3"
   ]
  },
  {
   "cell_type": "code",
   "execution_count": 22,
   "id": "564be396",
   "metadata": {},
   "outputs": [
    {
     "data": {
      "text/plain": [
       "tensor([[ 5.7221e-02, -2.4306e-01, -8.9203e-01, -8.2719e-01,  8.6376e-01,\n",
       "          1.1155e+00,  3.9215e-02, -4.9666e-01,  1.2844e-01,  7.7854e-01,\n",
       "         -9.4759e-01,  2.3715e-01,  1.9429e-01,  4.3205e-01, -7.5901e-01,\n",
       "          3.0543e-01,  5.7399e-01,  9.4501e-01,  7.4169e-01,  1.3863e+00,\n",
       "         -1.0016e+00, -1.1097e+00,  1.8747e+00,  8.7505e-01, -8.6521e-02,\n",
       "          1.1798e+00,  8.7663e-01,  7.5637e-01, -2.7366e+00,  4.4466e-01,\n",
       "          6.1270e-01, -1.3814e+00,  8.6757e-02,  5.3115e-01,  1.7756e+00,\n",
       "          5.4765e-02,  1.4058e-01, -9.1508e-01,  1.1931e+00, -7.8226e-01,\n",
       "          5.0210e-01, -4.7745e-01, -6.0741e-01, -1.5083e+00,  1.1093e+00,\n",
       "         -8.8009e-01,  2.4334e-01,  7.2373e-02,  1.1175e+00,  7.2491e-01,\n",
       "          1.3848e+00, -6.2988e-02, -1.7341e+00,  2.8326e-01, -1.2288e+00,\n",
       "          1.1466e+00, -1.2542e+00,  1.4961e-01,  4.8356e-01, -1.6430e+00,\n",
       "          9.4617e-01,  3.0024e+00, -1.3106e+00,  1.3999e+00,  2.0522e-01,\n",
       "          1.3063e+00, -8.3263e-01,  1.7256e-01, -7.3574e-02, -3.0965e-01,\n",
       "         -3.7515e-01, -6.3788e-01,  8.3173e-01,  1.0284e+00, -1.4015e+00,\n",
       "         -1.8509e+00,  7.9331e-01,  2.0661e+00, -2.0617e-03,  4.9415e-01,\n",
       "          1.5946e+00,  1.3627e+00,  2.3646e-01,  1.1246e-01, -7.1819e-01,\n",
       "         -7.7054e-01,  1.1036e+00,  1.2283e-01, -8.7610e-01,  6.0837e-01,\n",
       "         -1.8385e-01,  3.2610e-01, -3.7304e-01, -2.3459e-01,  3.3212e-01,\n",
       "         -8.3896e-01,  1.7551e+00, -1.2623e+00,  5.6466e-02, -3.5136e-01,\n",
       "          3.3565e-02, -1.6801e+00, -2.4847e-02, -2.6884e-01,  2.5121e-01,\n",
       "          1.3614e+00,  3.6978e-01,  5.4292e-01,  1.1715e+00,  8.4772e-01,\n",
       "         -2.3487e+00,  5.9138e-01, -2.1702e-01, -1.0696e+00,  1.7049e+00,\n",
       "          4.7741e-01, -1.1318e-01, -3.4957e-01,  1.8797e+00,  1.0607e+00,\n",
       "          8.2416e-02, -7.0993e-01, -1.2508e+00,  8.5874e-01, -2.5330e+00,\n",
       "          1.0170e-01,  1.4857e+00, -9.8338e-01]], device='cuda:0')"
      ]
     },
     "execution_count": 22,
     "metadata": {},
     "output_type": "execute_result"
    }
   ],
   "source": [
    "outputs3 = torch.cat([outputs3, outputs2], dim=1)\n",
    "outputs3"
   ]
  },
  {
   "cell_type": "code",
   "execution_count": 23,
   "id": "71d02206",
   "metadata": {},
   "outputs": [
    {
     "data": {
      "text/plain": [
       "torch.Size([1, 128])"
      ]
     },
     "execution_count": 23,
     "metadata": {},
     "output_type": "execute_result"
    }
   ],
   "source": [
    "outputs3.shape"
   ]
  },
  {
   "cell_type": "code",
   "execution_count": 24,
   "id": "57b0421f",
   "metadata": {},
   "outputs": [
    {
     "data": {
      "text/plain": [
       "torch.Size([1, 256])"
      ]
     },
     "execution_count": 24,
     "metadata": {},
     "output_type": "execute_result"
    }
   ],
   "source": [
    "outputs3 = torch.cat([outputs3, outputs2], dim=1)\n",
    "outputs3.shape"
   ]
  },
  {
   "cell_type": "code",
   "execution_count": 41,
   "id": "ea0fb83e",
   "metadata": {},
   "outputs": [
    {
     "data": {
      "text/plain": [
       "tensor([[ 5.7221e-02],\n",
       "        [-2.4306e-01],\n",
       "        [-8.9203e-01],\n",
       "        [-8.2719e-01],\n",
       "        [ 8.6376e-01],\n",
       "        [ 1.1155e+00],\n",
       "        [ 3.9215e-02],\n",
       "        [-4.9666e-01],\n",
       "        [ 1.2844e-01],\n",
       "        [ 7.7854e-01],\n",
       "        [-9.4759e-01],\n",
       "        [ 2.3715e-01],\n",
       "        [ 1.9429e-01],\n",
       "        [ 4.3205e-01],\n",
       "        [-7.5901e-01],\n",
       "        [ 3.0543e-01],\n",
       "        [ 5.7399e-01],\n",
       "        [ 9.4501e-01],\n",
       "        [ 7.4169e-01],\n",
       "        [ 1.3863e+00],\n",
       "        [-1.0016e+00],\n",
       "        [-1.1097e+00],\n",
       "        [ 1.8747e+00],\n",
       "        [ 8.7505e-01],\n",
       "        [-8.6521e-02],\n",
       "        [ 1.1798e+00],\n",
       "        [ 8.7663e-01],\n",
       "        [ 7.5637e-01],\n",
       "        [-2.7366e+00],\n",
       "        [ 4.4466e-01],\n",
       "        [ 6.1270e-01],\n",
       "        [-1.3814e+00],\n",
       "        [ 8.6757e-02],\n",
       "        [ 5.3115e-01],\n",
       "        [ 1.7756e+00],\n",
       "        [ 5.4765e-02],\n",
       "        [ 1.4058e-01],\n",
       "        [-9.1508e-01],\n",
       "        [ 1.1931e+00],\n",
       "        [-7.8226e-01],\n",
       "        [ 5.0210e-01],\n",
       "        [-4.7745e-01],\n",
       "        [-6.0741e-01],\n",
       "        [-1.5083e+00],\n",
       "        [ 1.1093e+00],\n",
       "        [-8.8009e-01],\n",
       "        [ 2.4334e-01],\n",
       "        [ 7.2373e-02],\n",
       "        [ 1.1175e+00],\n",
       "        [ 7.2491e-01],\n",
       "        [ 1.3848e+00],\n",
       "        [-6.2988e-02],\n",
       "        [-1.7341e+00],\n",
       "        [ 2.8326e-01],\n",
       "        [-1.2288e+00],\n",
       "        [ 1.1466e+00],\n",
       "        [-1.2542e+00],\n",
       "        [ 1.4961e-01],\n",
       "        [ 4.8356e-01],\n",
       "        [-1.6430e+00],\n",
       "        [ 9.4617e-01],\n",
       "        [ 3.0024e+00],\n",
       "        [-1.3106e+00],\n",
       "        [ 1.3999e+00],\n",
       "        [ 2.0522e-01],\n",
       "        [ 1.3063e+00],\n",
       "        [-8.3263e-01],\n",
       "        [ 1.7256e-01],\n",
       "        [-7.3574e-02],\n",
       "        [-3.0965e-01],\n",
       "        [-3.7515e-01],\n",
       "        [-6.3788e-01],\n",
       "        [ 8.3173e-01],\n",
       "        [ 1.0284e+00],\n",
       "        [-1.4015e+00],\n",
       "        [-1.8509e+00],\n",
       "        [ 7.9331e-01],\n",
       "        [ 2.0661e+00],\n",
       "        [-2.0617e-03],\n",
       "        [ 4.9415e-01],\n",
       "        [ 1.5946e+00],\n",
       "        [ 1.3627e+00],\n",
       "        [ 2.3646e-01],\n",
       "        [ 1.1246e-01],\n",
       "        [-7.1819e-01],\n",
       "        [-7.7054e-01],\n",
       "        [ 1.1036e+00],\n",
       "        [ 1.2283e-01],\n",
       "        [-8.7610e-01],\n",
       "        [ 6.0837e-01],\n",
       "        [-1.8385e-01],\n",
       "        [ 3.2610e-01],\n",
       "        [-3.7304e-01],\n",
       "        [-2.3459e-01],\n",
       "        [ 3.3212e-01],\n",
       "        [-8.3896e-01],\n",
       "        [ 1.7551e+00],\n",
       "        [-1.2623e+00],\n",
       "        [ 5.6466e-02],\n",
       "        [-3.5136e-01],\n",
       "        [ 3.3565e-02],\n",
       "        [-1.6801e+00],\n",
       "        [-2.4847e-02],\n",
       "        [-2.6884e-01],\n",
       "        [ 2.5121e-01],\n",
       "        [ 1.3614e+00],\n",
       "        [ 3.6978e-01],\n",
       "        [ 5.4292e-01],\n",
       "        [ 1.1715e+00],\n",
       "        [ 8.4772e-01],\n",
       "        [-2.3487e+00],\n",
       "        [ 5.9138e-01],\n",
       "        [-2.1702e-01],\n",
       "        [-1.0696e+00],\n",
       "        [ 1.7049e+00],\n",
       "        [ 4.7741e-01],\n",
       "        [-1.1318e-01],\n",
       "        [-3.4957e-01],\n",
       "        [ 1.8797e+00],\n",
       "        [ 1.0607e+00],\n",
       "        [ 8.2416e-02],\n",
       "        [-7.0993e-01],\n",
       "        [-1.2508e+00],\n",
       "        [ 8.5874e-01],\n",
       "        [-2.5330e+00],\n",
       "        [ 1.0170e-01],\n",
       "        [ 1.4857e+00],\n",
       "        [-9.8338e-01],\n",
       "        [ 5.7221e-02],\n",
       "        [-2.4306e-01],\n",
       "        [-8.9203e-01],\n",
       "        [-8.2719e-01],\n",
       "        [ 8.6376e-01],\n",
       "        [ 1.1155e+00],\n",
       "        [ 3.9215e-02],\n",
       "        [-4.9666e-01],\n",
       "        [ 1.2844e-01],\n",
       "        [ 7.7854e-01],\n",
       "        [-9.4759e-01],\n",
       "        [ 2.3715e-01],\n",
       "        [ 1.9429e-01],\n",
       "        [ 4.3205e-01],\n",
       "        [-7.5901e-01],\n",
       "        [ 3.0543e-01],\n",
       "        [ 5.7399e-01],\n",
       "        [ 9.4501e-01],\n",
       "        [ 7.4169e-01],\n",
       "        [ 1.3863e+00],\n",
       "        [-1.0016e+00],\n",
       "        [-1.1097e+00],\n",
       "        [ 1.8747e+00],\n",
       "        [ 8.7505e-01],\n",
       "        [-8.6521e-02],\n",
       "        [ 1.1798e+00],\n",
       "        [ 8.7663e-01],\n",
       "        [ 7.5637e-01],\n",
       "        [-2.7366e+00],\n",
       "        [ 4.4466e-01],\n",
       "        [ 6.1270e-01],\n",
       "        [-1.3814e+00],\n",
       "        [ 8.6757e-02],\n",
       "        [ 5.3115e-01],\n",
       "        [ 1.7756e+00],\n",
       "        [ 5.4765e-02],\n",
       "        [ 1.4058e-01],\n",
       "        [-9.1508e-01],\n",
       "        [ 1.1931e+00],\n",
       "        [-7.8226e-01],\n",
       "        [ 5.0210e-01],\n",
       "        [-4.7745e-01],\n",
       "        [-6.0741e-01],\n",
       "        [-1.5083e+00],\n",
       "        [ 1.1093e+00],\n",
       "        [-8.8009e-01],\n",
       "        [ 2.4334e-01],\n",
       "        [ 7.2373e-02],\n",
       "        [ 1.1175e+00],\n",
       "        [ 7.2491e-01],\n",
       "        [ 1.3848e+00],\n",
       "        [-6.2988e-02],\n",
       "        [-1.7341e+00],\n",
       "        [ 2.8326e-01],\n",
       "        [-1.2288e+00],\n",
       "        [ 1.1466e+00],\n",
       "        [-1.2542e+00],\n",
       "        [ 1.4961e-01],\n",
       "        [ 4.8356e-01],\n",
       "        [-1.6430e+00],\n",
       "        [ 9.4617e-01],\n",
       "        [ 3.0024e+00],\n",
       "        [-1.3106e+00],\n",
       "        [ 1.3999e+00],\n",
       "        [ 2.0522e-01],\n",
       "        [ 1.3063e+00],\n",
       "        [-8.3263e-01],\n",
       "        [ 1.7256e-01],\n",
       "        [-7.3574e-02],\n",
       "        [-3.0965e-01],\n",
       "        [-3.7515e-01],\n",
       "        [-6.3788e-01],\n",
       "        [ 8.3173e-01],\n",
       "        [ 1.0284e+00],\n",
       "        [-1.4015e+00],\n",
       "        [-1.8509e+00],\n",
       "        [ 7.9331e-01],\n",
       "        [ 2.0661e+00],\n",
       "        [-2.0617e-03],\n",
       "        [ 4.9415e-01],\n",
       "        [ 1.5946e+00],\n",
       "        [ 1.3627e+00],\n",
       "        [ 2.3646e-01],\n",
       "        [ 1.1246e-01],\n",
       "        [-7.1819e-01],\n",
       "        [-7.7054e-01],\n",
       "        [ 1.1036e+00],\n",
       "        [ 1.2283e-01],\n",
       "        [-8.7610e-01],\n",
       "        [ 6.0837e-01],\n",
       "        [-1.8385e-01],\n",
       "        [ 3.2610e-01],\n",
       "        [-3.7304e-01],\n",
       "        [-2.3459e-01],\n",
       "        [ 3.3212e-01],\n",
       "        [-8.3896e-01],\n",
       "        [ 1.7551e+00],\n",
       "        [-1.2623e+00],\n",
       "        [ 5.6466e-02],\n",
       "        [-3.5136e-01],\n",
       "        [ 3.3565e-02],\n",
       "        [-1.6801e+00],\n",
       "        [-2.4847e-02],\n",
       "        [-2.6884e-01],\n",
       "        [ 2.5121e-01],\n",
       "        [ 1.3614e+00],\n",
       "        [ 3.6978e-01],\n",
       "        [ 5.4292e-01],\n",
       "        [ 1.1715e+00],\n",
       "        [ 8.4772e-01],\n",
       "        [-2.3487e+00],\n",
       "        [ 5.9138e-01],\n",
       "        [-2.1702e-01],\n",
       "        [-1.0696e+00],\n",
       "        [ 1.7049e+00],\n",
       "        [ 4.7741e-01],\n",
       "        [-1.1318e-01],\n",
       "        [-3.4957e-01],\n",
       "        [ 1.8797e+00],\n",
       "        [ 1.0607e+00],\n",
       "        [ 8.2416e-02],\n",
       "        [-7.0993e-01],\n",
       "        [-1.2508e+00],\n",
       "        [ 8.5874e-01],\n",
       "        [-2.5330e+00],\n",
       "        [ 1.0170e-01],\n",
       "        [ 1.4857e+00],\n",
       "        [-9.8338e-01]], device='cuda:0')"
      ]
     },
     "execution_count": 41,
     "metadata": {},
     "output_type": "execute_result"
    }
   ],
   "source": [
    "outputs4 = outputs3.reshape(256,-1)\n",
    "outputs4"
   ]
  },
  {
   "cell_type": "code",
   "execution_count": 38,
   "id": "f2a2a886",
   "metadata": {},
   "outputs": [],
   "source": [
    "outputs5 = outputs3.reshape(256,-1)"
   ]
  },
  {
   "cell_type": "code",
   "execution_count": 43,
   "id": "fbca80a1",
   "metadata": {},
   "outputs": [],
   "source": [
    "outputs6 = torch.cat([outputs4, outputs5], dim=0)"
   ]
  },
  {
   "cell_type": "code",
   "execution_count": 45,
   "id": "40c8bb0f",
   "metadata": {},
   "outputs": [
    {
     "data": {
      "text/plain": [
       "torch.Size([512, 1])"
      ]
     },
     "execution_count": 45,
     "metadata": {},
     "output_type": "execute_result"
    }
   ],
   "source": [
    "outputs6.shape"
   ]
  },
  {
   "cell_type": "code",
   "execution_count": 47,
   "id": "12e27107",
   "metadata": {},
   "outputs": [],
   "source": [
    "targets = torch.randn(0,1, device=torch.device('cuda:0'))"
   ]
  },
  {
   "cell_type": "code",
   "execution_count": 48,
   "id": "b4f49d9d",
   "metadata": {},
   "outputs": [
    {
     "data": {
      "text/plain": [
       "tensor([], device='cuda:0', size=(0, 1))"
      ]
     },
     "execution_count": 48,
     "metadata": {},
     "output_type": "execute_result"
    }
   ],
   "source": [
    "targets"
   ]
  },
  {
   "cell_type": "code",
   "execution_count": 49,
   "id": "890ad0da",
   "metadata": {},
   "outputs": [],
   "source": [
    "outputs7 = torch.cat([targets, outputs6], dim=0)"
   ]
  },
  {
   "cell_type": "code",
   "execution_count": 51,
   "id": "4375b9d3",
   "metadata": {},
   "outputs": [
    {
     "data": {
      "text/plain": [
       "torch.Size([512, 1])"
      ]
     },
     "execution_count": 51,
     "metadata": {},
     "output_type": "execute_result"
    }
   ],
   "source": [
    "outputs7.shape"
   ]
  },
  {
   "cell_type": "code",
   "execution_count": 55,
   "id": "b2604c92",
   "metadata": {},
   "outputs": [],
   "source": [
    "outputs8 = torch.randn(0,18, device=torch.device('cuda:0'))"
   ]
  },
  {
   "cell_type": "code",
   "execution_count": 56,
   "id": "27c2d865",
   "metadata": {},
   "outputs": [
    {
     "data": {
      "text/plain": [
       "tensor([], device='cuda:0', size=(0, 18))"
      ]
     },
     "execution_count": 56,
     "metadata": {},
     "output_type": "execute_result"
    }
   ],
   "source": [
    "outputs8"
   ]
  },
  {
   "cell_type": "code",
   "execution_count": 59,
   "id": "6c6fa026",
   "metadata": {},
   "outputs": [
    {
     "data": {
      "text/plain": [
       "torch.Size([64, 18])"
      ]
     },
     "execution_count": 59,
     "metadata": {},
     "output_type": "execute_result"
    }
   ],
   "source": [
    "outputs9 = torch.randn(64,18, device=torch.device('cuda:0'))\n",
    "outputs9.shape"
   ]
  },
  {
   "cell_type": "code",
   "execution_count": 61,
   "id": "b5e28c7d",
   "metadata": {},
   "outputs": [
    {
     "data": {
      "text/plain": [
       "torch.Size([64, 18])"
      ]
     },
     "execution_count": 61,
     "metadata": {},
     "output_type": "execute_result"
    }
   ],
   "source": [
    "outputs10 = torch.cat([outputs8, outputs9], dim=0)\n",
    "outputs10.shape"
   ]
  },
  {
   "cell_type": "code",
   "execution_count": 62,
   "id": "617d5b2d",
   "metadata": {},
   "outputs": [
    {
     "data": {
      "text/plain": [
       "torch.Size([128, 18])"
      ]
     },
     "execution_count": 62,
     "metadata": {},
     "output_type": "execute_result"
    }
   ],
   "source": [
    "outputs10 = torch.cat([outputs10, outputs9], dim=0)\n",
    "outputs10.shape"
   ]
  },
  {
   "cell_type": "code",
   "execution_count": 64,
   "id": "0f558c6a",
   "metadata": {},
   "outputs": [
    {
     "data": {
      "text/plain": [
       "torch.Size([0])"
      ]
     },
     "execution_count": 64,
     "metadata": {},
     "output_type": "execute_result"
    }
   ],
   "source": [
    "outputs11 = torch.randn(0, device=torch.device('cuda:0'))\n",
    "outputs11.shape"
   ]
  },
  {
   "cell_type": "code",
   "execution_count": 65,
   "id": "d726b2db",
   "metadata": {},
   "outputs": [
    {
     "data": {
      "text/plain": [
       "torch.Size([64])"
      ]
     },
     "execution_count": 65,
     "metadata": {},
     "output_type": "execute_result"
    }
   ],
   "source": [
    "outputs12 = torch.randn(64, device=torch.device('cuda:0'))\n",
    "outputs12.shape"
   ]
  },
  {
   "cell_type": "code",
   "execution_count": 66,
   "id": "ef2bdfdd",
   "metadata": {},
   "outputs": [
    {
     "ename": "NameError",
     "evalue": "name 'outputs11' is not defined",
     "output_type": "error",
     "traceback": [
      "\u001b[0;31m---------------------------------------------------------------------------\u001b[0m",
      "\u001b[0;31mNameError\u001b[0m                                 Traceback (most recent call last)",
      "\u001b[0;32m<ipython-input-66-60705d73cd5b>\u001b[0m in \u001b[0;36m<module>\u001b[0;34m\u001b[0m\n\u001b[0;32m----> 1\u001b[0;31m \u001b[0moutputs13\u001b[0m \u001b[0;34m=\u001b[0m \u001b[0mtorch\u001b[0m\u001b[0;34m.\u001b[0m\u001b[0mcat\u001b[0m\u001b[0;34m(\u001b[0m\u001b[0;34m[\u001b[0m\u001b[0moutputs11\u001b[0m\u001b[0;34m,\u001b[0m \u001b[0moutputs12\u001b[0m\u001b[0;34m]\u001b[0m\u001b[0;34m,\u001b[0m \u001b[0mdim\u001b[0m\u001b[0;34m=\u001b[0m\u001b[0;36m0\u001b[0m\u001b[0;34m)\u001b[0m\u001b[0;34m\u001b[0m\u001b[0;34m\u001b[0m\u001b[0m\n\u001b[0m\u001b[1;32m      2\u001b[0m \u001b[0moutputs13\u001b[0m\u001b[0;34m.\u001b[0m\u001b[0mshape\u001b[0m\u001b[0;34m\u001b[0m\u001b[0;34m\u001b[0m\u001b[0m\n",
      "\u001b[0;31mNameError\u001b[0m: name 'outputs11' is not defined"
     ]
    }
   ],
   "source": [
    "outputs13 = torch.cat([outputs11, outputs12], dim=0)\n",
    "outputs13.shape"
   ]
  },
  {
   "cell_type": "code",
   "execution_count": null,
   "id": "efb5d828",
   "metadata": {},
   "outputs": [],
   "source": []
  }
 ],
 "metadata": {
  "kernelspec": {
   "display_name": "Python 3",
   "language": "python",
   "name": "python3"
  },
  "language_info": {
   "codemirror_mode": {
    "name": "ipython",
    "version": 3
   },
   "file_extension": ".py",
   "mimetype": "text/x-python",
   "name": "python",
   "nbconvert_exporter": "python",
   "pygments_lexer": "ipython3",
   "version": "3.8.5"
  }
 },
 "nbformat": 4,
 "nbformat_minor": 5
}
