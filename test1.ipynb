{
 "cells": [
  {
   "cell_type": "code",
   "execution_count": 1,
   "id": "b80ef881-248f-4a70-a028-e7d66794230a",
   "metadata": {},
   "outputs": [],
   "source": [
    "# https://kakaobrain.github.io/pororo/notes/intro.html\n",
    "\n",
    "pip install pororo\n",
    "\n",
    "# -------------------------무시-------------------------\n",
    "# ERROR: Cannot uninstall 'ruamel-yaml'. It is a distutils installed project and thus we cannot accurately determine which files belong to it which would lead to only a partial uninstall.\n",
    "# 발생 시\n",
    "# pip install pororo --ignore-installed ruamel.yaml\n",
    "# 실행\n",
    "# -------------------------무시-------------------------"
   ]
  },
  {
   "cell_type": "code",
   "execution_count": 2,
   "id": "c4e34c24-60a4-42dc-9d7d-e189be486138",
   "metadata": {
    "tags": []
   },
   "outputs": [
    {
     "name": "stderr",
     "output_type": "stream",
     "text": [
      "2021-10-06 03:11:45.795273: W tensorflow/stream_executor/platform/default/dso_loader.cc:59] Could not load dynamic library 'libcudart.so.10.1'; dlerror: libcudart.so.10.1: cannot open shared object file: No such file or directory; LD_LIBRARY_PATH: /usr/local/nvidia/lib:/usr/local/nvidia/lib64\n",
      "2021-10-06 03:11:45.795310: I tensorflow/stream_executor/cuda/cudart_stub.cc:29] Ignore above cudart dlerror if you do not have a GPU set up on your machine.\n",
      "[Korean Sentence Splitter]: Initializing Kss...\n"
     ]
    }
   ],
   "source": [
    "from pororo import Pororo\n",
    "pos = Pororo(task=\"pos\", lang=\"ko\")\n",
    "word2vec = Pororo(\"word2vec\", lang=\"ko\")\n",
    "\n",
    "def EDA_augmentation(text):\n",
    "    \n",
    "    text_augmentations = {}\n",
    "    \n",
    "    # Synonym Replacement\n",
    "    for word in pos(text) :\n",
    "        if (word[1] == \"NNP\") or (word[1] == \"NNG\") : break\n",
    "    text_copy = copy.copy(text)\n",
    "    new_word = word2vec.find_similar_words(word[0])[\"{} (word)\".format(word[0])][0].split(\" \")[0]\n",
    "    text_copy = text_copy.replace(word[0], new_word)\n",
    "    text_augmentations[\"SR\"] = text_copy\n",
    "    \n",
    "    # Random Insetion\n",
    "    new_word = \"오늘\"\n",
    "    text_len = len(text.split()) - 1\n",
    "    text_word_list = text.split()\n",
    "    target_num = random.randint(0, text_len)\n",
    "    text_word_list.insert(target_num, new_word)\n",
    "    text_augmentations[\"RI\"] = \" \".join(text_word_list)\n",
    "    \n",
    "    # Random Swap\n",
    "    text_word_list = text.split()\n",
    "    choice_word = random.sample(text_word_list, 2)\n",
    "    text_word_list[(text_word_list.index(choice_word[0]))], text_word_list[(text_word_list.index(choice_word[1]))] = choice_word[1], choice_word[0]\n",
    "    text_augmentations[\"RS\"] = \" \".join(text_word_list)\n",
    "    \n",
    "    # Random Deletion\n",
    "    text_len = len(text.split()) - 1\n",
    "    target_num = random.randint(0, text_len)\n",
    "    RD_text = text.split()\n",
    "    del RD_text[target_num]\n",
    "    text_augmentations[\"RD\"] = \" \".join(RD_text)\n",
    "                \n",
    "    return text_augmentations"
   ]
  },
  {
   "cell_type": "code",
   "execution_count": 3,
   "id": "22b36b90-faf5-44ab-82ff-f713646de2dc",
   "metadata": {},
   "outputs": [],
   "source": [
    "# text = \"이순신은 조선 중기의 무신이다.\"\n",
    "# EDA_augmentation(text)"
   ]
  },
  {
   "cell_type": "code",
   "execution_count": null,
   "id": "195fda53-0b8c-43d6-98a7-3a75f88b7290",
   "metadata": {},
   "outputs": [],
   "source": []
  },
  {
   "cell_type": "code",
   "execution_count": null,
   "id": "b40c77fb-390c-4690-856a-4611c26b9844",
   "metadata": {},
   "outputs": [],
   "source": []
  },
  {
   "cell_type": "code",
   "execution_count": null,
   "id": "9ebdc2bc-95d7-4d53-9593-98ab030d68b5",
   "metadata": {},
   "outputs": [],
   "source": []
  },
  {
   "cell_type": "code",
   "execution_count": 4,
   "id": "639e5280-2a4e-4d95-9f96-6a56428e2782",
   "metadata": {},
   "outputs": [],
   "source": [
    "import pandas as pd\n",
    "import numpy as np\n",
    "import random\n",
    "import copy"
   ]
  },
  {
   "cell_type": "code",
   "execution_count": 5,
   "id": "b00fc4a1-9e07-4866-92ad-f27f2093ad29",
   "metadata": {},
   "outputs": [],
   "source": [
    "dataset = pd.read_csv(\"../new_dataset_by/train.csv\", sep=\",\")"
   ]
  },
  {
   "cell_type": "code",
   "execution_count": 6,
   "id": "07866d68-4d33-46bc-9e94-c267ff23bbe1",
   "metadata": {},
   "outputs": [],
   "source": [
    "data = dataset.iloc[:, 1]"
   ]
  },
  {
   "cell_type": "code",
   "execution_count": 7,
   "id": "27567c0b-17d1-4b73-bad0-bffeefd37d9d",
   "metadata": {},
   "outputs": [],
   "source": [
    "mt = Pororo(task=\"translation\", lang=\"multi\")"
   ]
  },
  {
   "cell_type": "code",
   "execution_count": null,
   "id": "91c7af36-47da-4bc4-8d8a-d70db3e7e2f4",
   "metadata": {},
   "outputs": [],
   "source": []
  },
  {
   "cell_type": "code",
   "execution_count": null,
   "id": "02835302-d1b5-41be-86dd-9466c3c13328",
   "metadata": {},
   "outputs": [],
   "source": [
    "for sentance in data[0:5]:\n",
    "    str1 = mt(sentance, src=\"ko\", tgt=\"en\")\n",
    "    result = mt(str1, src=\"en\", tgt=\"ko\")\n",
    "    print(result)"
   ]
  },
  {
   "cell_type": "code",
   "execution_count": null,
   "id": "3219700b-8fa2-4293-a49d-2fecb7f7addd",
   "metadata": {},
   "outputs": [],
   "source": []
  },
  {
   "cell_type": "code",
   "execution_count": null,
   "id": "b8f8c734-b815-4489-a5c4-446c4940f87f",
   "metadata": {},
   "outputs": [],
   "source": []
  },
  {
   "cell_type": "code",
   "execution_count": 9,
   "id": "3dd25cc7-b385-4a67-af3e-796d92387761",
   "metadata": {},
   "outputs": [
    {
     "data": {
      "text/plain": [
       "'李承信は朝鮮中期の無神だ'"
      ]
     },
     "execution_count": 9,
     "metadata": {},
     "output_type": "execute_result"
    }
   ],
   "source": [
    "mt(\"이순신은 조선 중기의 무신이다.\", src=\"ko\", tgt=\"ja\")"
   ]
  },
  {
   "cell_type": "code",
   "execution_count": 10,
   "id": "afb41bb4-2b14-40e9-a9c8-fa712f513dd1",
   "metadata": {},
   "outputs": [
    {
     "data": {
      "text/plain": [
       "'Li is the god of the Middle Joseon Dynasty'"
      ]
     },
     "execution_count": 10,
     "metadata": {},
     "output_type": "execute_result"
    }
   ],
   "source": [
    "mt(\"李承信は朝鮮中期の無神だ\", src=\"ja\", tgt=\"en\")"
   ]
  },
  {
   "cell_type": "code",
   "execution_count": null,
   "id": "f202f251-215f-4f14-bc3a-99223e9984b1",
   "metadata": {},
   "outputs": [],
   "source": []
  },
  {
   "cell_type": "code",
   "execution_count": null,
   "id": "32ca38ea-6fd1-4e07-bc5b-edb4d99e0109",
   "metadata": {},
   "outputs": [],
   "source": []
  },
  {
   "cell_type": "code",
   "execution_count": 11,
   "id": "ddb5402c-5598-4108-8190-4137ab256f1b",
   "metadata": {},
   "outputs": [
    {
     "ename": "SyntaxError",
     "evalue": "invalid syntax (<ipython-input-11-1d36469cf498>, line 4)",
     "output_type": "error",
     "traceback": [
      "\u001b[0;36m  File \u001b[0;32m\"<ipython-input-11-1d36469cf498>\"\u001b[0;36m, line \u001b[0;32m4\u001b[0m\n\u001b[0;31m    pip install googletrans==4.0.0-rc1\u001b[0m\n\u001b[0m        ^\u001b[0m\n\u001b[0;31mSyntaxError\u001b[0m\u001b[0;31m:\u001b[0m invalid syntax\n"
     ]
    }
   ],
   "source": [
    "# https://github.com/ssut/py-googletrans\n",
    "\n",
    "# 4.0.0rc1 : PRE-RELEASE\n",
    "pip install googletrans==4.0.0-rc1"
   ]
  },
  {
   "cell_type": "code",
   "execution_count": null,
   "id": "fa37b5e2-43bb-4a7a-af7a-b055aa6595a8",
   "metadata": {},
   "outputs": [],
   "source": [
    "import googletrans\n",
    "\n",
    "translator = googletrans.Translator()\n",
    "\n",
    "str1 = \"나는 한국인 입니다.\"\n",
    "str2 = \"I like burger.\"\n",
    "\n",
    "result1 = translator.translate(str1, src='auto', dest='en')\n",
    "result2 = translator.translate(result1.text, dest='ko')\n",
    "\n",
    "print(f\"나는 한국인 입니다. => {result1.text}\")\n",
    "print(f\"I like burger. => {result2.text}\")"
   ]
  },
  {
   "cell_type": "code",
   "execution_count": null,
   "id": "e67cf626-ebc4-40c9-a880-97e2e8ac3ebc",
   "metadata": {},
   "outputs": [],
   "source": [
    "result2"
   ]
  },
  {
   "cell_type": "code",
   "execution_count": null,
   "id": "76b2d921-19f6-41aa-882f-d460904790b5",
   "metadata": {},
   "outputs": [],
   "source": []
  }
 ],
 "metadata": {
  "kernelspec": {
   "display_name": "Python 3 (ipykernel)",
   "language": "python",
   "name": "python3"
  },
  "language_info": {
   "codemirror_mode": {
    "name": "ipython",
    "version": 3
   },
   "file_extension": ".py",
   "mimetype": "text/x-python",
   "name": "python",
   "nbconvert_exporter": "python",
   "pygments_lexer": "ipython3",
   "version": "3.8.5"
  }
 },
 "nbformat": 4,
 "nbformat_minor": 5
}
