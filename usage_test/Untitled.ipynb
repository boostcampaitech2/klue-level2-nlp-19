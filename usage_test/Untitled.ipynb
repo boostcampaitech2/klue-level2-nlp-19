{
 "cells": [
  {
   "cell_type": "code",
   "execution_count": 16,
   "id": "10bf4fc5",
   "metadata": {},
   "outputs": [
    {
     "data": {
      "text/plain": [
       "['[0.0014640180161222816',\n",
       " ' 0.9695228934288025',\n",
       " ' 0.004357089754194021',\n",
       " ' 0.0016579393995925784',\n",
       " ' 0.00011149905185448006',\n",
       " ' 0.005453231278806925',\n",
       " ' 0.0007165509159676731',\n",
       " ' 0.0003189912240486592',\n",
       " ' 0.0005065609002485871',\n",
       " ' 0.000361458893166855',\n",
       " ' 0.00014668915537185967',\n",
       " ' 2.681740625121165e-05',\n",
       " ' 0.0013232477940618992',\n",
       " ' 0.00016712422075215727',\n",
       " ' 0.00043252488831058145',\n",
       " ' 8.760203490965068e-05',\n",
       " ' 0.00015408277977257967',\n",
       " ' 6.104309431975707e-05',\n",
       " ' 9.832233627093956e-05',\n",
       " ' 0.00027167689404450357',\n",
       " ' 0.0005156064871698618',\n",
       " ' 0.00012032707309117541',\n",
       " ' 0.000153673070599325',\n",
       " ' 9.683197276899591e-05',\n",
       " ' 0.00013570462760981172',\n",
       " ' 0.0002803379902616143',\n",
       " ' 4.327080387156457e-05',\n",
       " ' 4.79898699268233e-05',\n",
       " ' 0.011274040676653385',\n",
       " ' 9.276411583414301e-05]']"
      ]
     },
     "execution_count": 16,
     "metadata": {},
     "output_type": "execute_result"
    }
   ],
   "source": [
    "import pandas as pd\n",
    "df = pd.read_csv(\"../prediction/submission.csv\")\n",
    "a = range(0, 7765)\n",
    "df[\"probs\"][0].split(\",\")"
   ]
  },
  {
   "cell_type": "code",
   "execution_count": null,
   "id": "403ba4d1",
   "metadata": {},
   "outputs": [],
   "source": []
  }
 ],
 "metadata": {
  "kernelspec": {
   "display_name": "Python 3 (ipykernel)",
   "language": "python",
   "name": "python3"
  },
  "language_info": {
   "codemirror_mode": {
    "name": "ipython",
    "version": 3
   },
   "file_extension": ".py",
   "mimetype": "text/x-python",
   "name": "python",
   "nbconvert_exporter": "python",
   "pygments_lexer": "ipython3",
   "version": "3.8.5"
  }
 },
 "nbformat": 4,
 "nbformat_minor": 5
}
