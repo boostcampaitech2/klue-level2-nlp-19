{
 "cells": [
  {
   "cell_type": "code",
   "execution_count": 31,
   "source": [
    "import pandas as pd\n",
    "import numpy as np\n",
    "\n",
    "dataset = pd.read_csv('../dataset/train/train.csv')\n",
    "\n",
    "data = dataset.loc[:, ['id', 'sentence', 'subject_entity', 'object_entity', 'source']]\n",
    "label = dataset['label']\n",
    "\n",
    "print(dataset.shape)"
   ],
   "outputs": [
    {
     "output_type": "stream",
     "name": "stdout",
     "text": [
      "(32470, 6)\n"
     ]
    }
   ],
   "metadata": {}
  },
  {
   "cell_type": "code",
   "execution_count": 32,
   "source": [
    "print(label.value_counts())\n"
   ],
   "outputs": [
    {
     "output_type": "stream",
     "name": "stdout",
     "text": [
      "no_relation                            9534\n",
      "org:top_members/employees              4284\n",
      "per:employee_of                        3573\n",
      "per:title                              2103\n",
      "org:member_of                          1866\n",
      "org:alternate_names                    1320\n",
      "per:origin                             1234\n",
      "org:place_of_headquarters              1195\n",
      "per:date_of_birth                      1130\n",
      "per:alternate_names                    1001\n",
      "per:spouse                              795\n",
      "per:colleagues                          534\n",
      "per:parents                             520\n",
      "org:founded                             450\n",
      "org:members                             420\n",
      "per:date_of_death                       418\n",
      "org:product                             380\n",
      "per:children                            304\n",
      "per:place_of_residence                  193\n",
      "per:other_family                        190\n",
      "per:place_of_birth                      166\n",
      "org:founded_by                          155\n",
      "per:product                             139\n",
      "per:siblings                            136\n",
      "org:political/religious_affiliation      98\n",
      "per:religion                             96\n",
      "per:schools_attended                     82\n",
      "org:dissolved                            66\n",
      "org:number_of_employees/members          48\n",
      "per:place_of_death                       40\n",
      "Name: label, dtype: int64\n"
     ]
    }
   ],
   "metadata": {}
  },
  {
   "cell_type": "code",
   "execution_count": 33,
   "source": [
    "replace_label = ['per:alternate_names', 'org:alternate_names', 'per:alternate_name', 'per:other_family', 'per:colleagues', 'per:siblings', 'per:spouse']\n",
    "\n",
    "newData = []\n",
    "id = len(dataset)\n",
    "\n",
    "for i in range(len(dataset)):\n",
    "    if dataset.iloc[i, 4] in replace_label:\n",
    "        data = dataset.iloc[i, :]\n",
    "        \n",
    "        data['id'] = id\n",
    "        tmp = data['subject_entity']\n",
    "        data['subject_entity'] = data['object_entity']\n",
    "        data['object_entity'] = tmp\n",
    "\n",
    "        newData.append(data)\n",
    "        id += 1"
   ],
   "outputs": [],
   "metadata": {}
  },
  {
   "cell_type": "code",
   "execution_count": 34,
   "source": [
    "newDF = pd.DataFrame(newData, columns=['id', 'sentence', 'subject_entity', 'object_entity', 'label', 'source'])\n",
    "newDF.to_csv('../dataset/train/addDataset.csv',index=False)\n",
    "#dataset = dataset.append(newDF, ignore_index=True)\n",
    "\n",
    "#print(dataset.shape)\n",
    "\n",
    "#dataset.to_csv('../dataset/train/newTrain.csv',index=False)"
   ],
   "outputs": [
    {
     "output_type": "stream",
     "name": "stdout",
     "text": [
      "(36446, 6)\n"
     ]
    }
   ],
   "metadata": {}
  },
  {
   "cell_type": "code",
   "execution_count": 35,
   "source": [
    "print(dataset['label'].value_counts())"
   ],
   "outputs": [
    {
     "output_type": "stream",
     "name": "stdout",
     "text": [
      "no_relation                            9534\n",
      "org:top_members/employees              4284\n",
      "per:employee_of                        3573\n",
      "org:alternate_names                    2640\n",
      "per:title                              2103\n",
      "per:alternate_names                    2002\n",
      "org:member_of                          1866\n",
      "per:spouse                             1590\n",
      "per:origin                             1234\n",
      "org:place_of_headquarters              1195\n",
      "per:date_of_birth                      1130\n",
      "per:colleagues                         1068\n",
      "per:parents                             520\n",
      "org:founded                             450\n",
      "org:members                             420\n",
      "per:date_of_death                       418\n",
      "org:product                             380\n",
      "per:other_family                        380\n",
      "per:children                            304\n",
      "per:siblings                            272\n",
      "per:place_of_residence                  193\n",
      "per:place_of_birth                      166\n",
      "org:founded_by                          155\n",
      "per:product                             139\n",
      "org:political/religious_affiliation      98\n",
      "per:religion                             96\n",
      "per:schools_attended                     82\n",
      "org:dissolved                            66\n",
      "org:number_of_employees/members          48\n",
      "per:place_of_death                       40\n",
      "Name: label, dtype: int64\n"
     ]
    }
   ],
   "metadata": {}
  },
  {
   "cell_type": "code",
   "execution_count": 36,
   "source": [
    "\"\"\"for i in range(len(dataset)):\n",
    "    if dataset.iloc[i,4] == 'org:members':\n",
    "        print(dataset.iloc[i,:])\"\"\""
   ],
   "outputs": [
    {
     "output_type": "execute_result",
     "data": {
      "text/plain": [
       "\"for i in range(len(dataset)):\\n    if dataset.iloc[i,4] == 'org:members':\\n        print(dataset.iloc[i,:])\""
      ]
     },
     "metadata": {},
     "execution_count": 36
    }
   ],
   "metadata": {}
  },
  {
   "cell_type": "code",
   "execution_count": null,
   "source": [],
   "outputs": [],
   "metadata": {}
  }
 ],
 "metadata": {
  "orig_nbformat": 4,
  "language_info": {
   "name": "python",
   "version": "3.8.5",
   "mimetype": "text/x-python",
   "codemirror_mode": {
    "name": "ipython",
    "version": 3
   },
   "pygments_lexer": "ipython3",
   "nbconvert_exporter": "python",
   "file_extension": ".py"
  },
  "kernelspec": {
   "name": "python3",
   "display_name": "Python 3.8.5 64-bit ('base': conda)"
  },
  "interpreter": {
   "hash": "98b0a9b7b4eaaa670588a142fd0a9b87eaafe866f1db4228be72b4211d12040f"
  }
 },
 "nbformat": 4,
 "nbformat_minor": 2
}