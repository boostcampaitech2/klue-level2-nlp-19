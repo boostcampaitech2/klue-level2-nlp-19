{
 "cells": [
  {
   "cell_type": "code",
   "execution_count": 9,
   "metadata": {},
   "outputs": [
    {
     "name": "stdout",
     "output_type": "stream",
     "text": [
      "(32423, 6)\n"
     ]
    }
   ],
   "source": [
    "import pandas as pd\n",
    "import numpy as np\n",
    "\n",
    "dataset = pd.read_csv('../dataset/train/train.csv')\n",
    "\n",
    "data = dataset.loc[:, ['id', 'sentence', 'subject_entity', 'object_entity', 'source']]\n",
    "label = dataset['label']\n",
    "\n",
    "print(dataset.shape)"
   ]
  },
  {
   "cell_type": "code",
   "execution_count": 10,
   "metadata": {},
   "outputs": [
    {
     "name": "stdout",
     "output_type": "stream",
     "text": [
      "no_relation                            9515\n",
      "org:top_members/employees              4279\n",
      "per:employee_of                        3567\n",
      "per:title                              2098\n",
      "org:member_of                          1864\n",
      "org:alternate_names                    1318\n",
      "per:origin                             1234\n",
      "org:place_of_headquarters              1194\n",
      "per:date_of_birth                      1130\n",
      "per:alternate_names                     998\n",
      "per:spouse                              795\n",
      "per:colleagues                          534\n",
      "per:parents                             518\n",
      "org:founded                             450\n",
      "org:members                             420\n",
      "per:date_of_death                       417\n",
      "org:product                             380\n",
      "per:children                            304\n",
      "per:place_of_residence                  192\n",
      "per:other_family                        190\n",
      "per:place_of_birth                      166\n",
      "org:founded_by                          155\n",
      "per:product                             139\n",
      "per:siblings                            136\n",
      "org:political/religious_affiliation      98\n",
      "per:religion                             96\n",
      "per:schools_attended                     82\n",
      "org:dissolved                            66\n",
      "org:number_of_employees/members          48\n",
      "per:place_of_death                       40\n",
      "Name: label, dtype: int64\n"
     ]
    }
   ],
   "source": [
    "print(label.value_counts())"
   ]
  },
  {
   "cell_type": "code",
   "execution_count": 11,
   "metadata": {},
   "outputs": [
    {
     "name": "stderr",
     "output_type": "stream",
     "text": [
      "<ipython-input-11-c69a7c88e947>:10: SettingWithCopyWarning: \n",
      "A value is trying to be set on a copy of a slice from a DataFrame\n",
      "\n",
      "See the caveats in the documentation: https://pandas.pydata.org/pandas-docs/stable/user_guide/indexing.html#returning-a-view-versus-a-copy\n",
      "  data['id'] = id\n",
      "<ipython-input-11-c69a7c88e947>:12: SettingWithCopyWarning: \n",
      "A value is trying to be set on a copy of a slice from a DataFrame\n",
      "\n",
      "See the caveats in the documentation: https://pandas.pydata.org/pandas-docs/stable/user_guide/indexing.html#returning-a-view-versus-a-copy\n",
      "  data['subject_entity'] = data['object_entity']\n",
      "<ipython-input-11-c69a7c88e947>:13: SettingWithCopyWarning: \n",
      "A value is trying to be set on a copy of a slice from a DataFrame\n",
      "\n",
      "See the caveats in the documentation: https://pandas.pydata.org/pandas-docs/stable/user_guide/indexing.html#returning-a-view-versus-a-copy\n",
      "  data['object_entity'] = tmp\n"
     ]
    }
   ],
   "source": [
    "replace_label = ['no_relation', 'per:alternate_names', 'org:alternate_names', 'per:other_family', 'per:colleagues', 'per:siblings', 'per:spouse']\n",
    "\n",
    "newData = []\n",
    "id = len(dataset)\n",
    "\n",
    "for i in range(len(dataset)):\n",
    "    if dataset.iloc[i, 4] in replace_label:\n",
    "        data = dataset.iloc[i, :]\n",
    "        \n",
    "        data['id'] = id\n",
    "        tmp = data['subject_entity']\n",
    "        data['subject_entity'] = data['object_entity']\n",
    "        data['object_entity'] = tmp\n",
    "\n",
    "        newData.append(data)\n",
    "        id += 1"
   ]
  },
  {
   "cell_type": "code",
   "execution_count": null,
   "metadata": {},
   "outputs": [],
   "source": [
    "replace_label = ['no_relation', 'per:alternate_names', 'org:alternate_names', 'per:other_family', 'per:colleagues', 'per:siblings', 'per:spouse']\n",
    "\n",
    "newData = []\n",
    "id = len(dataset)\n",
    "\n",
    "for i in range(len(dataset)):\n",
    "    if dataset.iloc[i, 4] in replace_label:\n",
    "        data = dataset.iloc[i, :]\n",
    "        \n",
    "        data['id'] = id\n",
    "        tmp = data['subject_entity']\n",
    "        data['subject_entity'] = data['object_entity']\n",
    "        data['object_entity'] = tmp\n",
    "\n",
    "        newData.append(data)\n",
    "        id += 1"
   ]
  },
  {
   "cell_type": "code",
   "execution_count": 34,
   "metadata": {},
   "outputs": [
    {
     "name": "stdout",
     "output_type": "stream",
     "text": [
      "(36446, 6)\n"
     ]
    }
   ],
   "source": [
    "newDF = pd.DataFrame(newData, columns=['id', 'sentence', 'subject_entity', 'object_entity', 'label', 'source'])\n",
    "newDF.to_csv('../dataset/train/addDataset.csv',index=False)\n",
    "#dataset = dataset.append(newDF, ignore_index=True)\n",
    "\n",
    "#print(dataset.shape)\n",
    "\n",
    "#dataset.to_csv('../dataset/train/newTrain.csv',index=False)"
   ]
  },
  {
   "cell_type": "code",
   "execution_count": 35,
   "metadata": {},
   "outputs": [
    {
     "name": "stdout",
     "output_type": "stream",
     "text": [
      "no_relation                            9534\n",
      "org:top_members/employees              4284\n",
      "per:employee_of                        3573\n",
      "org:alternate_names                    2640\n",
      "per:title                              2103\n",
      "per:alternate_names                    2002\n",
      "org:member_of                          1866\n",
      "per:spouse                             1590\n",
      "per:origin                             1234\n",
      "org:place_of_headquarters              1195\n",
      "per:date_of_birth                      1130\n",
      "per:colleagues                         1068\n",
      "per:parents                             520\n",
      "org:founded                             450\n",
      "org:members                             420\n",
      "per:date_of_death                       418\n",
      "org:product                             380\n",
      "per:other_family                        380\n",
      "per:children                            304\n",
      "per:siblings                            272\n",
      "per:place_of_residence                  193\n",
      "per:place_of_birth                      166\n",
      "org:founded_by                          155\n",
      "per:product                             139\n",
      "org:political/religious_affiliation      98\n",
      "per:religion                             96\n",
      "per:schools_attended                     82\n",
      "org:dissolved                            66\n",
      "org:number_of_employees/members          48\n",
      "per:place_of_death                       40\n",
      "Name: label, dtype: int64\n"
     ]
    }
   ],
   "source": [
    "print(dataset['label'].value_counts())"
   ]
  },
  {
   "cell_type": "code",
   "execution_count": 36,
   "metadata": {},
   "outputs": [
    {
     "data": {
      "text/plain": [
       "\"for i in range(len(dataset)):\\n    if dataset.iloc[i,4] == 'org:members':\\n        print(dataset.iloc[i,:])\""
      ]
     },
     "execution_count": 36,
     "metadata": {},
     "output_type": "execute_result"
    }
   ],
   "source": [
    "\"\"\"for i in range(len(dataset)):\n",
    "    if dataset.iloc[i,4] == 'org:members':\n",
    "        print(dataset.iloc[i,:])\"\"\""
   ]
  },
  {
   "cell_type": "code",
   "execution_count": null,
   "metadata": {},
   "outputs": [],
   "source": []
  }
 ],
 "metadata": {
  "interpreter": {
   "hash": "98b0a9b7b4eaaa670588a142fd0a9b87eaafe866f1db4228be72b4211d12040f"
  },
  "kernelspec": {
   "display_name": "Python 3 (ipykernel)",
   "language": "python",
   "name": "python3"
  },
  "language_info": {
   "codemirror_mode": {
    "name": "ipython",
    "version": 3
   },
   "file_extension": ".py",
   "mimetype": "text/x-python",
   "name": "python",
   "nbconvert_exporter": "python",
   "pygments_lexer": "ipython3",
   "version": "3.8.5"
  }
 },
 "nbformat": 4,
 "nbformat_minor": 4
}
