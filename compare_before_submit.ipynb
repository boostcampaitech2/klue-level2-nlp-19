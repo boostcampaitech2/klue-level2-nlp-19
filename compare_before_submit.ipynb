{
 "cells": [
  {
   "cell_type": "code",
   "execution_count": null,
   "id": "5fada0ac",
   "metadata": {},
   "outputs": [],
   "source": [
    "save_name = 'submission_standard'\n",
    "save_path = os.path.join(\"./prediction\", f'{save_name}.csv')\n",
    "data = pd.read_csv(save_path)\n",
    "\n",
    "save_name_my = 'submission_my'\n",
    "save_path_my = os.path.join(\"./prediction\", f'{save_name_my}.csv')\n",
    "data_my = pd.read_csv(save_path_my)\n",
    "\n"
   ]
  },
  {
   "cell_type": "code",
   "execution_count": null,
   "id": "2523c146",
   "metadata": {},
   "outputs": [],
   "source": [
    "count = 0\n",
    "for i in range(len(data[\"ans\"])):\n",
    "    if data[\"ans\"].values[i] == data_my[\"ans\"].values[i]:\n",
    "        count+=1\n",
    "        \n",
    "print(count)\n",
    "print(len(data[\"ans\"]))\n",
    "print(len(data[\"ans\"]) - count)"
   ]
  }
 ],
 "metadata": {
  "kernelspec": {
   "display_name": "Python 3 (ipykernel)",
   "language": "python",
   "name": "python3"
  },
  "language_info": {
   "codemirror_mode": {
    "name": "ipython",
    "version": 3
   },
   "file_extension": ".py",
   "mimetype": "text/x-python",
   "name": "python",
   "nbconvert_exporter": "python",
   "pygments_lexer": "ipython3",
   "version": "3.8.5"
  }
 },
 "nbformat": 4,
 "nbformat_minor": 5
}
